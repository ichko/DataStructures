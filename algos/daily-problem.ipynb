{
 "cells": [
  {
   "cell_type": "markdown",
   "metadata": {},
   "source": [
    "# Daily Coding Problem: Problem #743 [Medium]\n",
    "---\n",
    "Good morning! Here's your coding interview problem for today.\n",
    "\n",
    "This problem was asked by Mozilla.\n",
    "\n",
    "A bridge in a connected (undirected) graph is an edge that, if removed, causes the graph to become disconnected. Find all the bridges in a graph.\n",
    "\n",
    "[Example Data - https://www.geeksforgeeks.org/bridge-in-a-graph/](https://www.geeksforgeeks.org/bridge-in-a-graph/)"
   ]
  },
  {
   "attachments": {
    "image.png": {
     "image/png": "[encoded data removed]"
    }
   },
   "cell_type": "markdown",
   "metadata": {},
   "source": [
    "![image.png](attachment:image.png)"
   ]
  },
  {
   "cell_type": "code",
   "execution_count": 153,
   "metadata": {},
   "outputs": [
    {
     "data": {
      "text/plain": [
       "defaultdict(<function __main__.Graph.__init__.<locals>.<lambda>()>,\n",
       "            {0: {1, 2, 3}, 1: {0, 2}, 2: {0, 1}, 3: {0, 4}, 4: {3}})"
      ]
     },
     "execution_count": 153,
     "metadata": {},
     "output_type": "execute_result"
    }
   ],
   "source": [
    "from collections import defaultdict\n",
    "\n",
    "class Graph:\n",
    "    def __init__(self, verteces, edges):\n",
    "        self.verteces = verteces\n",
    "        self.edges = edges\n",
    "        self.assoc = defaultdict(lambda: set())\n",
    "\n",
    "        for u in self.verteces:\n",
    "            for v in self.verteces:\n",
    "                if (u, v) in self.edges or (v, u) in self.edges:\n",
    "                    self.assoc[u].add(v)\n",
    "                    self.assoc[v].add(u)\n",
    "\n",
    "    def get_children(self, vertex):\n",
    "        return self.assoc[vertex]\n",
    "\n",
    "\n",
    "graph1 = Graph(\n",
    "    verteces=[0, 1, 2, 3, 4],\n",
    "    edges=[(1, 0), (1, 2), (2, 0), (0, 3), (3, 4)],\n",
    ")\n",
    "\n",
    "graph2 = Graph(\n",
    "    verteces=[0, 1, 2, 3],\n",
    "    edges=[(0, 1), (1, 2), (2, 3)],\n",
    ")\n",
    "\n",
    "graph3 = Graph(\n",
    "    verteces=[0, 1, 2, 3, 4, 5, 6],\n",
    "    edges=[(0, 1), (0, 2), (0, 1), (2, 1), (0, 1),\n",
    "           (1, 3), (1, 4), (1, 6), (0, 1), (3, 5), (4, 5)],\n",
    ")\n",
    "\n",
    "graph1.assoc"
   ]
  },
  {
   "cell_type": "code",
   "execution_count": 161,
   "metadata": {},
   "outputs": [],
   "source": [
    "def find_bridges(graph):\n",
    "    visited = set()\n",
    "    cycles = []\n",
    "    stack = []\n",
    "    \n",
    "    def dfs(vertex):\n",
    "        stack.append(vertex)\n",
    "\n",
    "        if vertex in visited:\n",
    "            # cycle detected\n",
    "            # there should be a faster way to do this\n",
    "            cycle = stack[stack.index(vertex):]\n",
    "            if len(cycle) > 3: # 0, 1, 0 is not \"interesting\" cycle\n",
    "                cycles.append(cycle)\n",
    "        else:\n",
    "            children = graph.get_children(vertex)\n",
    "            visited.add(vertex)\n",
    "            for child in children:\n",
    "                dfs(child)\n",
    "\n",
    "        stack.pop()\n",
    "\n",
    "    start_vertex = graph.verteces[0]\n",
    "    dfs(start_vertex)\n",
    "    bridges = set(graph.edges[::])\n",
    "#     print(cycles)\n",
    "    \n",
    "    for cycle in cycles:\n",
    "        for u, v in zip(cycle, cycle[1:]):\n",
    "            if (u, v) in bridges:\n",
    "                bridges.remove((u, v))\n",
    "            if (v, u) in bridges:\n",
    "                bridges.remove((v, u))\n",
    "            \n",
    "    return bridges"
   ]
  },
  {
   "cell_type": "code",
   "execution_count": 162,
   "metadata": {},
   "outputs": [],
   "source": [
    "actual_bridges = find_bridges(graph1)\n",
    "\n",
    "assert actual_bridges == {(0, 3), (3, 4)}, f'Not equal {actual_bridges}'"
   ]
  },
  {
   "cell_type": "code",
   "execution_count": 163,
   "metadata": {},
   "outputs": [],
   "source": [
    "actual_bridges = find_bridges(graph2)\n",
    "\n",
    "assert actual_bridges == {(0, 1), (1, 2), (2, 3)}, f'Not equal {actual_bridges}'"
   ]
  },
  {
   "cell_type": "code",
   "execution_count": 164,
   "metadata": {},
   "outputs": [],
   "source": [
    "actual_bridges = find_bridges(graph3)\n",
    "\n",
    "assert actual_bridges == {(1, 6)}, f'Not equal {actual_bridges}'"
   ]
  },
  {
   "cell_type": "markdown",
   "metadata": {},
   "source": [
    "---"
   ]
  },
  {
   "cell_type": "code",
   "execution_count": null,
   "metadata": {},
   "outputs": [],
   "source": []
  }
 ],
 "metadata": {
  "kernelspec": {
   "display_name": "Python 3.7.5 64-bit ('base': conda)",
   "language": "python",
   "name": "python37564bitbaseconda450f1bc47f8a4f9f9c4b21d2d568ed8a"
  },
  "language_info": {
   "codemirror_mode": {
    "name": "ipython",
    "version": 3
   },
   "file_extension": ".py",
   "mimetype": "text/x-python",
   "name": "python",
   "nbconvert_exporter": "python",
   "pygments_lexer": "ipython3",
   "version": "3.7.5"
  },
  "toc": {
   "base_numbering": 1,
   "nav_menu": {},
   "number_sections": true,
   "sideBar": true,
   "skip_h1_title": false,
   "title_cell": "Table of Contents",
   "title_sidebar": "Contents",
   "toc_cell": false,
   "toc_position": {},
   "toc_section_display": true,
   "toc_window_display": false
  }
 },
 "nbformat": 4,
 "nbformat_minor": 2
}
