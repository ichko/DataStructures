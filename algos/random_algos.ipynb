{
 "cells": [
  {
   "cell_type": "markdown",
   "metadata": {},
   "source": [
    "---"
   ]
  },
  {
   "cell_type": "code",
   "execution_count": 252,
   "metadata": {},
   "outputs": [],
   "source": [
    "from tqdm import tqdm\n",
    "from random import shuffle\n",
    "\n",
    "\n",
    "def stress_test_sort(sort_fn, n=1000):\n",
    "    for _ in tqdm(range(100)):\n",
    "        actual = list(range(-n, n)) * 2\n",
    "        shuffle(actual)\n",
    "        inp = actual[:]\n",
    "        expected = sorted(actual[:])\n",
    "        sort_fn(actual)\n",
    "\n",
    "        if expected != actual:\n",
    "            print('ERROR')\n",
    "            print(f'arr: {inp}\\nexp: {expected}\\nact: {actual}')\n",
    "            return\n",
    "\n",
    "    print('All tests passed!')"
   ]
  },
  {
   "cell_type": "markdown",
   "metadata": {},
   "source": [
    "---"
   ]
  },
  {
   "cell_type": "code",
   "execution_count": 253,
   "metadata": {},
   "outputs": [],
   "source": [
    "def heap_sort(arr):\n",
    "    left = lambda n: 2 * n + 1\n",
    "    right = lambda n: 2 * n + 2\n",
    "\n",
    "    def heapify(n, size):\n",
    "        l, r = left(n), right(n)\n",
    "\n",
    "        if l >= size and r >= size: return\n",
    "        if r >= size:\n",
    "            if arr[n] < arr[l]: arr[n], arr[l] = arr[l], arr[n]\n",
    "            return\n",
    "\n",
    "        m = max([l, r], key=lambda i: arr[i])\n",
    "        if arr[n] < arr[m]:\n",
    "            arr[n], arr[m] = arr[m], arr[n]\n",
    "            heapify(m, size)\n",
    "\n",
    "    for i in range(len(arr) // 2 - 1, -1, -1):\n",
    "        heapify(i, len(arr))\n",
    "\n",
    "    for i in range(len(arr) - 1, -1, -1):\n",
    "        arr[i], arr[0] = arr[0], arr[i]\n",
    "        heapify(0, i)"
   ]
  },
  {
   "cell_type": "code",
   "execution_count": 254,
   "metadata": {},
   "outputs": [
    {
     "data": {
      "text/plain": [
       "[-inf, -3, 1, 2, 3, 4, 5, 5, 7, inf]"
      ]
     },
     "execution_count": 254,
     "metadata": {},
     "output_type": "execute_result"
    }
   ],
   "source": [
    "from math import inf\n",
    "\n",
    "arr = [7, 4, -3, 2, 5, 5, 1, 3, inf, -inf]\n",
    "heap_sort(arr)\n",
    "\n",
    "arr"
   ]
  },
  {
   "cell_type": "code",
   "execution_count": 255,
   "metadata": {},
   "outputs": [
    {
     "name": "stderr",
     "output_type": "stream",
     "text": [
      "100%|████████████████████████████████████████████████████████████████████████████████| 100/100 [00:05<00:00, 18.70it/s]\n"
     ]
    },
    {
     "name": "stdout",
     "output_type": "stream",
     "text": [
      "All tests passed!\n",
      "Wall time: 5.35 s\n"
     ]
    }
   ],
   "source": [
    "%%time\n",
    "stress_test_sort(heap_sort)"
   ]
  },
  {
   "cell_type": "markdown",
   "metadata": {},
   "source": [
    "---"
   ]
  },
  {
   "cell_type": "code",
   "execution_count": 309,
   "metadata": {},
   "outputs": [],
   "source": [
    "# See - https://rcoh.me/posts/linear-time-median-finding/\n",
    "from random import randint\n",
    "\n",
    "def nlogn_median(l, r, arr):\n",
    "    return sorted(arr[l:r])[n / 2]\n",
    "\n",
    "\n",
    "def quick_sort(arr, pivot_fn=lambda arr, l, r: arr[l]):\n",
    "    def partition(l, r):\n",
    "        low, pivot = l, pivot_fn(arr, l, r)\n",
    "\n",
    "        for front in range(l, r):\n",
    "            if arr[front] < pivot:\n",
    "                arr[front], arr[low] = arr[low], arr[front]\n",
    "                low += 1\n",
    "\n",
    "        arr[low], arr[r] = arr[r], arr[low]\n",
    "        return low\n",
    "\n",
    "    def sort(l, r):\n",
    "        if l >= r: return\n",
    "\n",
    "        pivot = partition(l, r)\n",
    "        print(arr)\n",
    "        sort(l, pivot - 1)\n",
    "        sort(pivot + 1, r)\n",
    "\n",
    "    sort(0, len(arr) - 1)"
   ]
  },
  {
   "cell_type": "code",
   "execution_count": 310,
   "metadata": {},
   "outputs": [
    {
     "name": "stdout",
     "output_type": "stream",
     "text": [
      "[-inf, -3, 5, 1, 2, 5, inf, 0, 1]\n",
      "[-inf, -3, 1, 2, 0, 1, inf, 5, 5]\n",
      "[-inf, -3, 0, 2, 1, 1, inf, 5, 5]\n",
      "[-inf, -3, 0, 1, 2, 1, inf, 5, 5]\n",
      "[-inf, -3, 0, 1, 2, 1, 5, 5, inf]\n"
     ]
    },
    {
     "data": {
      "text/plain": [
       "[-inf, -3, 0, 1, 2, 1, 5, 5, inf]"
      ]
     },
     "execution_count": 310,
     "metadata": {},
     "output_type": "execute_result"
    }
   ],
   "source": [
    "arr = [0, 1, 5, 1, 2, 5, inf, -inf, -3]\n",
    "quick_sort(arr)\n",
    "\n",
    "arr"
   ]
  },
  {
   "cell_type": "code",
   "execution_count": 280,
   "metadata": {},
   "outputs": [],
   "source": [
    "# quick_sort(arr, nlogn_median)"
   ]
  },
  {
   "cell_type": "code",
   "execution_count": 269,
   "metadata": {},
   "outputs": [
    {
     "name": "stderr",
     "output_type": "stream",
     "text": [
      "100%|████████████████████████████████████████████████████████████████████████████████| 100/100 [00:01<00:00, 53.15it/s]\n"
     ]
    },
    {
     "name": "stdout",
     "output_type": "stream",
     "text": [
      "All tests passed!\n",
      "Wall time: 1.93 s\n"
     ]
    }
   ],
   "source": [
    "%%time\n",
    "stress_test_sort(quick_sort)"
   ]
  },
  {
   "cell_type": "markdown",
   "metadata": {},
   "source": [
    "# Some resources\n",
    "\n",
    "[Most asked](https://www.geeksforgeeks.org/amazons-asked-interview-questions/)"
   ]
  },
  {
   "cell_type": "markdown",
   "metadata": {},
   "source": [
    "## [K largest](https://www.geeksforgeeks.org/k-largestor-smallest-elements-in-an-array/)\n",
    "\n",
    "- Bubble sort k times O(nk)\n",
    "- Keep in array the k largest (slow)\n",
    "- Sort get last k O(nlogn)\n",
    "- Use max heap\n",
    "    - Build heap\n",
    "    - Extract k times\n",
    "    - O(nlogk)"
   ]
  },
  {
   "cell_type": "code",
   "execution_count": 463,
   "metadata": {},
   "outputs": [],
   "source": [
    "def permutations(arr):\n",
    "    return ([arr]) if not arr else (\n",
    "        p[:i] + [arr[0]] + p[i:]\n",
    "        for p in permutations(arr[1:])\n",
    "        for i in range(len(p) + 1)\n",
    "    )"
   ]
  },
  {
   "cell_type": "code",
   "execution_count": 464,
   "metadata": {},
   "outputs": [
    {
     "data": {
      "text/plain": [
       "[[1, 2, 3], [2, 1, 3], [2, 3, 1], [1, 3, 2], [3, 1, 2], [3, 2, 1]]"
      ]
     },
     "execution_count": 464,
     "metadata": {},
     "output_type": "execute_result"
    }
   ],
   "source": [
    "list(permutations([1,2,3]))"
   ]
  },
  {
   "cell_type": "code",
   "execution_count": 391,
   "metadata": {},
   "outputs": [
    {
     "data": {
      "text/plain": [
       "[5]"
      ]
     },
     "execution_count": 391,
     "metadata": {},
     "output_type": "execute_result"
    }
   ],
   "source": [
    "list([(yield 5) for _ in range(1)])"
   ]
  },
  {
   "cell_type": "code",
   "execution_count": 487,
   "metadata": {},
   "outputs": [],
   "source": [
    "perm = lambda l: (p[:i] + [l[0]] + p[i:] for p in perm(l[1:]) for i in range(len(p) + 1)) if l else ([l])"
   ]
  },
  {
   "cell_type": "code",
   "execution_count": 520,
   "metadata": {},
   "outputs": [
    {
     "name": "stdout",
     "output_type": "stream",
     "text": [
      "[0, 1, 2, 3, 4][1, 0, 2, 3, 4][1, 2, 0, 3, 4][1, 2, 3, 0, 4][1, 2, 3, 4, 0][0, 2, 1, 3, 4][2, 0, 1, 3, 4][2, 1, 0, 3, 4][2, 1, 3, 0, 4][2, 1, 3, 4, 0][0, 2, 3, 1, 4][2, 0, 3, 1, 4][2, 3, 0, 1, 4][2, 3, 1, 0, 4][2, 3, 1, 4, 0][0, 2, 3, 4, 1][2, 0, 3, 4, 1][2, 3, 0, 4, 1][2, 3, 4, 0, 1][2, 3, 4, 1, 0][0, 1, 3, 2, 4][1, 0, 3, 2, 4][1, 3, 0, 2, 4][1, 3, 2, 0, 4][1, 3, 2, 4, 0][0, 3, 1, 2, 4][3, 0, 1, 2, 4][3, 1, 0, 2, 4][3, 1, 2, 0, 4][3, 1, 2, 4, 0][0, 3, 2, 1, 4][3, 0, 2, 1, 4][3, 2, 0, 1, 4][3, 2, 1, 0, 4][3, 2, 1, 4, 0][0, 3, 2, 4, 1][3, 0, 2, 4, 1][3, 2, 0, 4, 1][3, 2, 4, 0, 1][3, 2, 4, 1, 0][0, 1, 3, 4, 2][1, 0, 3, 4, 2][1, 3, 0, 4, 2][1, 3, 4, 0, 2][1, 3, 4, 2, 0][0, 3, 1, 4, 2][3, 0, 1, 4, 2][3, 1, 0, 4, 2][3, 1, 4, 0, 2][3, 1, 4, 2, 0][0, 3, 4, 1, 2][3, 0, 4, 1, 2][3, 4, 0, 1, 2][3, 4, 1, 0, 2][3, 4, 1, 2, 0][0, 3, 4, 2, 1][3, 0, 4, 2, 1][3, 4, 0, 2, 1][3, 4, 2, 0, 1][3, 4, 2, 1, 0][0, 1, 2, 4, 3][1, 0, 2, 4, 3][1, 2, 0, 4, 3][1, 2, 4, 0, 3][1, 2, 4, 3, 0][0, 2, 1, 4, 3][2, 0, 1, 4, 3][2, 1, 0, 4, 3][2, 1, 4, 0, 3][2, 1, 4, 3, 0][0, 2, 4, 1, 3][2, 0, 4, 1, 3][2, 4, 0, 1, 3][2, 4, 1, 0, 3][2, 4, 1, 3, 0][0, 2, 4, 3, 1][2, 0, 4, 3, 1][2, 4, 0, 3, 1][2, 4, 3, 0, 1][2, 4, 3, 1, 0][0, 1, 4, 2, 3][1, 0, 4, 2, 3][1, 4, 0, 2, 3][1, 4, 2, 0, 3][1, 4, 2, 3, 0][0, 4, 1, 2, 3][4, 0, 1, 2, 3][4, 1, 0, 2, 3][4, 1, 2, 0, 3][4, 1, 2, 3, 0][0, 4, 2, 1, 3][4, 0, 2, 1, 3][4, 2, 0, 1, 3][4, 2, 1, 0, 3][4, 2, 1, 3, 0][0, 4, 2, 3, 1][4, 0, 2, 3, 1][4, 2, 0, 3, 1][4, 2, 3, 0, 1][4, 2, 3, 1, 0][0, 1, 4, 3, 2][1, 0, 4, 3, 2][1, 4, 0, 3, 2][1, 4, 3, 0, 2][1, 4, 3, 2, 0][0, 4, 1, 3, 2][4, 0, 1, 3, 2][4, 1, 0, 3, 2][4, 1, 3, 0, 2][4, 1, 3, 2, 0][0, 4, 3, 1, 2][4, 0, 3, 1, 2][4, 3, 0, 1, 2][4, 3, 1, 0, 2][4, 3, 1, 2, 0][0, 4, 3, 2, 1][4, 0, 3, 2, 1][4, 3, 0, 2, 1][4, 3, 2, 0, 1][4, 3, 2, 1, 0]"
     ]
    }
   ],
   "source": [
    "for p in perm(list(range(5))):\n",
    "    print(p, end='')"
   ]
  },
  {
   "cell_type": "code",
   "execution_count": 567,
   "metadata": {},
   "outputs": [
    {
     "name": "stderr",
     "output_type": "stream",
     "text": [
      ".....\n",
      "----------------------------------------------------------------------\n",
      "Ran 5 tests in 0.005s\n",
      "\n",
      "OK\n"
     ]
    }
   ],
   "source": [
    "# Reversing LinkedList\n",
    "import unittest\n",
    "\n",
    "class Node:\n",
    "    def __init__(self, value, next=None):\n",
    "        self.value = value\n",
    "        self.next = next\n",
    "    \n",
    "    def __repr__(self):\n",
    "        result = ''\n",
    "        iterator = self\n",
    "\n",
    "        while iterator != None:\n",
    "            result += str(iterator.value) + ('' if iterator.next is None else ' ')\n",
    "            iterator = iterator.next\n",
    "\n",
    "        return result\n",
    "\n",
    "\n",
    "def reverse(start):\n",
    "    if start == None: return\n",
    "\n",
    "    current = start\n",
    "    next = current.next\n",
    "    prev = None\n",
    "\n",
    "    while current != None:\n",
    "        current.next = prev\n",
    "        prev = current\n",
    "        current = next\n",
    "        if current != None:\n",
    "            next = current.next\n",
    "\n",
    "    return prev\n",
    "\n",
    "\n",
    "class TestLinkedListReverse(unittest.TestCase):\n",
    "    def test_simple_list(self):\n",
    "        actual = reverse(Node(1, Node(2, Node(3, Node(4)))))\n",
    "        self.assertEqual(str(actual), '4 3 2 1')\n",
    "\n",
    "    def test_none_list(self):\n",
    "        actual = reverse(None)\n",
    "        self.assertEqual(str(actual), 'None')\n",
    "\n",
    "    def test_one_item_list(self):\n",
    "        actual = reverse(Node(8))\n",
    "        self.assertEqual(str(actual), '8')\n",
    "\n",
    "    def test_two_item_list(self):\n",
    "        actual = reverse(Node(8, Node(4)))\n",
    "        self.assertEqual(str(actual), '4 8')\n",
    "\n",
    "\n",
    "if __name__ == '__main__':\n",
    "    unittest.main(argv=['first-arg-is-ignored'], exit=False)"
   ]
  },
  {
   "cell_type": "code",
   "execution_count": 11,
   "metadata": {},
   "outputs": [
    {
     "name": "stdout",
     "output_type": "stream",
     "text": [
      "OK\n"
     ]
    }
   ],
   "source": [
    "from collections import Counter\n",
    "\n",
    "def min_set_substring(string, chars):\n",
    "    freqs = Counter(string)\n",
    "\n",
    "    for start, c in enumerate(string):\n",
    "        if freqs[c] == 1 and c in chars: break\n",
    "        else: freqs[c] -= 1\n",
    "\n",
    "    for finish, c in enumerate(string[::-1]):\n",
    "        if freqs[c] == 1 and c in chars: break\n",
    "        else: freqs[c] -= 1\n",
    "    \n",
    "    return string[start:len(string) - finish]\n",
    "\n",
    "\n",
    "if __name__ == '__main__':\n",
    "    inp = 'figehaeci'\n",
    "    \n",
    "    result = min_set_substring(inp, set('aei'))\n",
    "    assert result == 'aeci'\n",
    "    print('OK')"
   ]
  },
  {
   "cell_type": "code",
   "execution_count": null,
   "metadata": {},
   "outputs": [],
   "source": []
  },
  {
   "cell_type": "code",
   "execution_count": null,
   "metadata": {},
   "outputs": [],
   "source": [
    "\n",
    "\n",
    "\n",
    "\n",
    "\n",
    "\n",
    "\n",
    "\n",
    "\n",
    "\n",
    "\n",
    "\n",
    "\n",
    "\n",
    "\n",
    "\n",
    "\n",
    "\n",
    "\n",
    "\n",
    "\n",
    "\n",
    "\n",
    "\n",
    "\n"
   ]
  }
 ],
 "metadata": {
  "kernelspec": {
   "display_name": "Python 3",
   "language": "python",
   "name": "python3"
  },
  "language_info": {
   "codemirror_mode": {
    "name": "ipython",
    "version": 3
   },
   "file_extension": ".py",
   "mimetype": "text/x-python",
   "name": "python",
   "nbconvert_exporter": "python",
   "pygments_lexer": "ipython3",
   "version": "3.7.1"
  }
 },
 "nbformat": 4,
 "nbformat_minor": 2
}
