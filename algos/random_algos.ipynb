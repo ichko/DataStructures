{
 "cells": [
  {
   "cell_type": "markdown",
   "metadata": {},
   "source": [
    "---"
   ]
  },
  {
   "cell_type": "code",
   "execution_count": 252,
   "metadata": {},
   "outputs": [],
   "source": [
    "from tqdm import tqdm\n",
    "from random import shuffle\n",
    "\n",
    "\n",
    "def stress_test_sort(sort_fn, n=1000):\n",
    "    for _ in tqdm(range(100)):\n",
    "        actual = list(range(-n, n)) * 2\n",
    "        shuffle(actual)\n",
    "        inp = actual[:]\n",
    "        expected = sorted(actual[:])\n",
    "        sort_fn(actual)\n",
    "\n",
    "        if expected != actual:\n",
    "            print('ERROR')\n",
    "            print(f'arr: {inp}\\nexp: {expected}\\nact: {actual}')\n",
    "            return\n",
    "\n",
    "    print('All tests passed!')"
   ]
  },
  {
   "cell_type": "markdown",
   "metadata": {},
   "source": [
    "---"
   ]
  },
  {
   "cell_type": "code",
   "execution_count": 253,
   "metadata": {},
   "outputs": [],
   "source": [
    "def heap_sort(arr):\n",
    "    left = lambda n: 2 * n + 1\n",
    "    right = lambda n: 2 * n + 2\n",
    "\n",
    "    def heapify(n, size):\n",
    "        l, r = left(n), right(n)\n",
    "\n",
    "        if l >= size and r >= size: return\n",
    "        if r >= size:\n",
    "            if arr[n] < arr[l]: arr[n], arr[l] = arr[l], arr[n]\n",
    "            return\n",
    "\n",
    "        m = max([l, r], key=lambda i: arr[i])\n",
    "        if arr[n] < arr[m]:\n",
    "            arr[n], arr[m] = arr[m], arr[n]\n",
    "            heapify(m, size)\n",
    "\n",
    "    for i in range(len(arr) // 2 - 1, -1, -1):\n",
    "        heapify(i, len(arr))\n",
    "\n",
    "    for i in range(len(arr) - 1, -1, -1):\n",
    "        arr[i], arr[0] = arr[0], arr[i]\n",
    "        heapify(0, i)"
   ]
  },
  {
   "cell_type": "code",
   "execution_count": 254,
   "metadata": {},
   "outputs": [
    {
     "data": {
      "text/plain": [
       "[-inf, -3, 1, 2, 3, 4, 5, 5, 7, inf]"
      ]
     },
     "execution_count": 254,
     "metadata": {},
     "output_type": "execute_result"
    }
   ],
   "source": [
    "from math import inf\n",
    "\n",
    "arr = [7, 4, -3, 2, 5, 5, 1, 3, inf, -inf]\n",
    "heap_sort(arr)\n",
    "\n",
    "arr"
   ]
  },
  {
   "cell_type": "code",
   "execution_count": 255,
   "metadata": {},
   "outputs": [
    {
     "name": "stderr",
     "output_type": "stream",
     "text": [
      "100%|████████████████████████████████████████████████████████████████████████████████| 100/100 [00:05<00:00, 18.70it/s]\n"
     ]
    },
    {
     "name": "stdout",
     "output_type": "stream",
     "text": [
      "All tests passed!\n",
      "Wall time: 5.35 s\n"
     ]
    }
   ],
   "source": [
    "%%time\n",
    "stress_test_sort(heap_sort)"
   ]
  },
  {
   "cell_type": "markdown",
   "metadata": {},
   "source": [
    "---"
   ]
  },
  {
   "cell_type": "code",
   "execution_count": 278,
   "metadata": {},
   "outputs": [],
   "source": [
    "# See - https://rcoh.me/posts/linear-time-median-finding/\n",
    "from random import randint\n",
    "\n",
    "def nlogn_median(l, r, arr):\n",
    "    return sorted(arr[l:r])[n / 2]\n",
    "\n",
    "\n",
    "def quick_sort(arr, pivot_fn=lambda l, r, arr: randint(l, r)):\n",
    "    def partition(l, r):\n",
    "        pivot = pivot_fn(l, r, arr)\n",
    "        arr[pivot], arr[l] = arr[l], arr[pivot]\n",
    "        pivot = l\n",
    "        l += 1\n",
    "\n",
    "        while l <= r:\n",
    "            if arr[l] > arr[pivot]:\n",
    "                arr[l], arr[r] = arr[r], arr[l]\n",
    "                r -= 1\n",
    "            elif arr[r] <= arr[pivot]:\n",
    "                arr[l], arr[r] = arr[r], arr[l]\n",
    "                l += 1\n",
    "            else:\n",
    "                l += 1\n",
    "                r -= 1\n",
    "\n",
    "        arr[pivot], arr[r] = arr[r], arr[pivot]\n",
    "        \n",
    "        return r\n",
    "\n",
    "    def sort(l, r):\n",
    "        if l >= r: return\n",
    "\n",
    "        pivot = partition(l, r)\n",
    "        sort(l, pivot - 1)\n",
    "        sort(pivot + 1, r)\n",
    "\n",
    "    sort(0, len(arr) - 1)"
   ]
  },
  {
   "cell_type": "code",
   "execution_count": 262,
   "metadata": {},
   "outputs": [
    {
     "data": {
      "text/plain": [
       "[-inf, -3, 0, 1, 1, 2, 5, 5, inf]"
      ]
     },
     "execution_count": 262,
     "metadata": {},
     "output_type": "execute_result"
    }
   ],
   "source": [
    "arr = [0, 1, 5, 1, 2, 5, inf, -inf, -3]\n",
    "quick_sort(arr)\n",
    "\n",
    "arr"
   ]
  },
  {
   "cell_type": "code",
   "execution_count": 280,
   "metadata": {},
   "outputs": [],
   "source": [
    "# quick_sort(arr, nlogn_median)"
   ]
  },
  {
   "cell_type": "code",
   "execution_count": 269,
   "metadata": {},
   "outputs": [
    {
     "name": "stderr",
     "output_type": "stream",
     "text": [
      "100%|████████████████████████████████████████████████████████████████████████████████| 100/100 [00:01<00:00, 53.15it/s]\n"
     ]
    },
    {
     "name": "stdout",
     "output_type": "stream",
     "text": [
      "All tests passed!\n",
      "Wall time: 1.93 s\n"
     ]
    }
   ],
   "source": [
    "%%time\n",
    "stress_test_sort(quick_sort)"
   ]
  },
  {
   "cell_type": "markdown",
   "metadata": {},
   "source": [
    "# \n",
    "\n",
    "[Most asked](https://www.geeksforgeeks.org/amazons-asked-interview-questions/)"
   ]
  },
  {
   "cell_type": "markdown",
   "metadata": {},
   "source": [
    "## [K largest](https://www.geeksforgeeks.org/k-largestor-smallest-elements-in-an-array/)\n",
    "\n",
    "- Bubble sort k times O(nk)\n",
    "- Keep in array the k largest (slow)\n",
    "- Sort get last k O(nlogn)\n",
    "- Use max heap\n",
    "    - Build heap\n",
    "    - Extract k times\n",
    "    - O(nlogk)"
   ]
  },
  {
   "cell_type": "code",
   "execution_count": null,
   "metadata": {},
   "outputs": [],
   "source": []
  }
 ],
 "metadata": {
  "kernelspec": {
   "display_name": "Python 3",
   "language": "python",
   "name": "python3"
  },
  "language_info": {
   "codemirror_mode": {
    "name": "ipython",
    "version": 3
   },
   "file_extension": ".py",
   "mimetype": "text/x-python",
   "name": "python",
   "nbconvert_exporter": "python",
   "pygments_lexer": "ipython3",
   "version": "3.7.1"
  }
 },
 "nbformat": 4,
 "nbformat_minor": 2
}
