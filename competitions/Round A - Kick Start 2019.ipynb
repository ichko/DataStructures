{
 "cells": [
  {
   "cell_type": "markdown",
   "metadata": {},
   "source": [
    "```\n",
    "Problem\n",
    "As the football coach at your local school, you have been tasked with picking a team of exactly P students to represent your school. There are N students for you to pick from. The i-th student has a skill rating Si, which is a positive integer indicating how skilled they are.\n",
    "\n",
    "You have decided that a team is fair if it has exactly P students on it and they all have the same skill rating. That way, everyone plays as a team. Initially, it might not be possible to pick a fair team, so you will give some of the students one-on-one coaching. It takes one hour of coaching to increase the skill rating of any student by 1.\n",
    "\n",
    "The competition season is starting very soon (in fact, the first match has already started!), so you'd like to find the minimum number of hours of coaching you need to give before you are able to pick a fair team.\n",
    "\n",
    "Input\n",
    "The first line of the input gives the number of test cases, T. T test cases follow. Each test case starts with a line containing the two integers N and P, the number of students and the number of students you need to pick, respectively. Then, another line follows containing N integers Si; the i-th of these is the skill of the i-th student.\n",
    "\n",
    "Output\n",
    "For each test case, output one line containing Case #x: y, where x is the test case number (starting from 1) and y is the minimum number of hours of coaching needed, before you can pick a fair team of P students.\n",
    "\n",
    "Limits\n",
    "Time limit: 15 seconds per test set.\n",
    "Memory limit: 1 GB.\n",
    "1 ≤ T ≤ 100.\n",
    "1 ≤ Si ≤ 10000, for all i.\n",
    "2 ≤ P ≤ N.\n",
    "\n",
    "Test set 1 (Visible)\n",
    "2 ≤ N ≤ 1000.\n",
    "\n",
    "Test set 2 (Hidden)\n",
    "2 ≤ N ≤ 105.\n",
    "\n",
    "Sample\n",
    "\n",
    "Input \n",
    " \t\n",
    "Output \n",
    " \n",
    "3\n",
    "4 3\n",
    "3 1 9 100\n",
    "6 2\n",
    "5 5 1 2 3 4\n",
    "5 5\n",
    "7 7 1 7 7\n",
    "\n",
    "  \n",
    "Case #1: 14\n",
    "Case #2: 0\n",
    "Case #3: 6\n",
    "\n",
    "  \n",
    "In Sample Case #1, you can spend a total of 6 hours training the first student and 8 hours training the second one. This gives the first, second and third students a skill level of 9. This is the minimum time you can spend, so the answer is 14.\n",
    "\n",
    "In Sample Case #2, you can already pick a fair team (the first and second student) without having to do any coaching, so the answer is 0.\n",
    "\n",
    "In Sample Case #3, P = N, so every student will be on your team. You have to spend 6 hours training the third student, so that they have a skill of 7, like everyone else. This is the minimum time you can spend, so the answer is 6.\n",
    "\n",
    "```"
   ]
  },
  {
   "cell_type": "code",
   "execution_count": 1,
   "metadata": {},
   "outputs": [],
   "source": [
    "def fake_input(str_input):\n",
    "    input_iter = iter(str_input.strip().split('\\n'))\n",
    "    return lambda: next(input_iter)"
   ]
  },
  {
   "cell_type": "code",
   "execution_count": 2,
   "metadata": {},
   "outputs": [],
   "source": [
    "__name__ = '__not_main__'"
   ]
  },
  {
   "cell_type": "code",
   "execution_count": 17,
   "metadata": {},
   "outputs": [],
   "source": [
    "import sys\n",
    "from math import inf\n",
    "\n",
    "\n",
    "def pick_team(students, team_size):\n",
    "    students.sort()\n",
    "    cur_sum = sum(students[:team_size - 1])\n",
    "    min_time = inf\n",
    "\n",
    "    for i in range(team_size - 1, len(students)):\n",
    "        cur_sum += students[i]\n",
    "        max_skill = students[i]\n",
    "\n",
    "        min_time = min(min_time, team_size * max_skill - cur_sum)\n",
    "        cur_sum -= students[i - team_size + 1]\n",
    "\n",
    "    return min_time\n",
    "\n",
    "\n",
    "def main(input):\n",
    "    T = int(input())\n",
    "    for case in range(T):\n",
    "        N, P = map(int, input().split())\n",
    "        students = list(map(int, input().split()))\n",
    "\n",
    "        min_team_time = pick_team(students, P)\n",
    "\n",
    "        print('Case #%d: %d' % (case + 1, min_team_time))\n",
    "        sys.stdout.flush()\n",
    "\n",
    "\n",
    "if __name__ == '__main__':\n",
    "    main(input)"
   ]
  },
  {
   "cell_type": "code",
   "execution_count": 18,
   "metadata": {},
   "outputs": [
    {
     "name": "stdout",
     "output_type": "stream",
     "text": [
      "Case #1: 14\n",
      "Case #2: 0\n",
      "Case #3: 6\n"
     ]
    }
   ],
   "source": [
    "main(fake_input(\"\"\"\n",
    "    3\n",
    "    4 3\n",
    "    3 1 9 100\n",
    "    6 2\n",
    "    5 5 1 2 3 4\n",
    "    5 5\n",
    "    7 7 1 7 7\n",
    "\"\"\"))"
   ]
  },
  {
   "cell_type": "code",
   "execution_count": 10,
   "metadata": {},
   "outputs": [
    {
     "data": {
      "text/plain": [
       "1"
      ]
     },
     "execution_count": 10,
     "metadata": {},
     "output_type": "execute_result"
    }
   ],
   "source": [
    "pick_team([4,20,3,2], 2)"
   ]
  },
  {
   "cell_type": "code",
   "execution_count": null,
   "metadata": {},
   "outputs": [],
   "source": []
  }
 ],
 "metadata": {
  "kernelspec": {
   "display_name": "Python 3",
   "language": "python",
   "name": "python3"
  },
  "language_info": {
   "codemirror_mode": {
    "name": "ipython",
    "version": 3
   },
   "file_extension": ".py",
   "mimetype": "text/x-python",
   "name": "python",
   "nbconvert_exporter": "python",
   "pygments_lexer": "ipython3",
   "version": "3.7.1"
  }
 },
 "nbformat": 4,
 "nbformat_minor": 2
}
