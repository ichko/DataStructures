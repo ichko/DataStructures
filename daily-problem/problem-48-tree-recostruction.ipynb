{
 "cells": [
  {
   "cell_type": "markdown",
   "metadata": {},
   "source": [
    "# Problem 48 - Tree reconstruction"
   ]
  },
  {
   "cell_type": "markdown",
   "metadata": {},
   "source": [
    "This problem was asked by Google.\n",
    "Given pre-order and in-order traversals of a binary tree, write a function to reconstruct the tree.\n",
    "\n",
    "For example, given the following preorder traversal:\n",
    "[a, b, d, e, c, f, g]\n",
    "\n",
    "And the following inorder traversal:\n",
    "[d, b, e, a, f, c, g]\n",
    "\n",
    "You should return the following tree:\n",
    "\n",
    "```\n",
    "    a\n",
    "   / \\\n",
    "  b   c\n",
    " / \\ / \\\n",
    "d  e f  g\n",
    "```"
   ]
  },
  {
   "cell_type": "markdown",
   "metadata": {},
   "source": [
    "## Solution"
   ]
  },
  {
   "cell_type": "code",
   "execution_count": 1,
   "metadata": {},
   "outputs": [],
   "source": [
    "class Node:\n",
    "    def __init__(self, value, left=None, right=None):\n",
    "        self.value = value\n",
    "        self.left = left\n",
    "        self.right = right\n",
    "        \n",
    "    def pre_order(self):\n",
    "        yield self.value\n",
    "        if self.left is not None: yield from self.left.pre_order()\n",
    "        if self.right is not None: yield from self.right.pre_order()\n",
    "\n",
    "    def in_order(self):\n",
    "        if self.left is not None: yield from self.left.in_order()\n",
    "        yield self.value\n",
    "        if self.right is not None: yield from self.right.in_order()"
   ]
  },
  {
   "cell_type": "code",
   "execution_count": 2,
   "metadata": {},
   "outputs": [],
   "source": [
    "tree = Node(\n",
    "    'a',\n",
    "    Node(\n",
    "        'b',\n",
    "        Node('d'),\n",
    "        Node('e')\n",
    "    ),\n",
    "    Node(\n",
    "        'c',\n",
    "        Node('f'),\n",
    "        Node('g')\n",
    "    )\n",
    ")"
   ]
  },
  {
   "cell_type": "code",
   "execution_count": 3,
   "metadata": {},
   "outputs": [
    {
     "data": {
      "text/plain": [
       "['a', 'b', 'd', 'e', 'c', 'f', 'g']"
      ]
     },
     "execution_count": 3,
     "metadata": {},
     "output_type": "execute_result"
    }
   ],
   "source": [
    "pre_order = list(tree.pre_order())\n",
    "pre_order"
   ]
  },
  {
   "cell_type": "code",
   "execution_count": 4,
   "metadata": {},
   "outputs": [
    {
     "data": {
      "text/plain": [
       "['d', 'b', 'e', 'a', 'f', 'c', 'g']"
      ]
     },
     "execution_count": 4,
     "metadata": {},
     "output_type": "execute_result"
    }
   ],
   "source": [
    "in_order = list(tree.in_order())\n",
    "in_order"
   ]
  },
  {
   "cell_type": "code",
   "execution_count": 5,
   "metadata": {},
   "outputs": [],
   "source": [
    "# O(5*|pre_order|^2)\n",
    "# Could be made linear if bounds for pre/in order lists \n",
    "# and hash map for finding the index of root in in_order list are used\n",
    "\n",
    "def reconstruct(pre_order, in_order):\n",
    "    if not pre_order or not in_order: return None\n",
    "\n",
    "    root = pre_order[0]\n",
    "    root_in_order_idx = in_order.index(root)\n",
    "\n",
    "    return Node(\n",
    "        root,\n",
    "        reconstruct(pre_order[1:root_in_order_idx + 1], in_order[:root_in_order_idx]),\n",
    "        reconstruct(pre_order[root_in_order_idx + 1:], in_order[root_in_order_idx + 1:])\n",
    "    )"
   ]
  },
  {
   "cell_type": "markdown",
   "metadata": {},
   "source": [
    "## Explanation\n",
    "\n",
    "The first item in the pre order list is the root. All the items to the left of it are in the pre order list from 1 to the index of the root in the in order list. We slice the pre and in order lists based on this index and recurse. (Check for recursion boundary conditions).\n",
    "\n",
    "Here ``r`` denotes the ``root`` and the ``arrows`` denote the way we ``slice`` the pre and in order arrays.\n",
    "\n",
    "| #                 | 0 | 1 | 2 | 3 | 4 | 5 | 6 |\n",
    "|-------------------|---|---|---|---|---|---|---|\n",
    "| pre_prder slicing | r | > | . | < | > | . | < |\n",
    "| pre_order         | a | b | d | e | c | f | g |\n",
    "| in_order slicing  | > | . | < | r | > | . | < |\n",
    "| in_order          | d | b | e | a | f | c | g |"
   ]
  },
  {
   "cell_type": "markdown",
   "metadata": {},
   "source": [
    "## Tests"
   ]
  },
  {
   "cell_type": "code",
   "execution_count": 6,
   "metadata": {},
   "outputs": [],
   "source": [
    "reconstruction = reconstruct(pre_order, in_order)"
   ]
  },
  {
   "cell_type": "code",
   "execution_count": 7,
   "metadata": {},
   "outputs": [
    {
     "data": {
      "text/plain": [
       "True"
      ]
     },
     "execution_count": 7,
     "metadata": {},
     "output_type": "execute_result"
    }
   ],
   "source": [
    "list(reconstruction.pre_order()) == pre_order"
   ]
  },
  {
   "cell_type": "code",
   "execution_count": 8,
   "metadata": {},
   "outputs": [
    {
     "data": {
      "text/plain": [
       "True"
      ]
     },
     "execution_count": 8,
     "metadata": {},
     "output_type": "execute_result"
    }
   ],
   "source": [
    "list(reconstruction.in_order()) == in_order"
   ]
  },
  {
   "cell_type": "code",
   "execution_count": 9,
   "metadata": {},
   "outputs": [],
   "source": [
    "from random import random\n",
    "\n",
    "def random_tree(tree_prob_size):\n",
    "    value = 0\n",
    "\n",
    "    def recurse(node_prob):\n",
    "        nonlocal value\n",
    "        value += 1\n",
    "        return Node(value, recurse(node_prob / 2), recurse(node_prob / 2)) \\\n",
    "            if random() < node_prob \\\n",
    "            else None\n",
    "        \n",
    "    return Node('#', recurse(tree_prob_size), recurse(tree_prob_size))"
   ]
  },
  {
   "cell_type": "code",
   "execution_count": 10,
   "metadata": {},
   "outputs": [
    {
     "data": {
      "text/plain": [
       "673"
      ]
     },
     "execution_count": 10,
     "metadata": {},
     "output_type": "execute_result"
    }
   ],
   "source": [
    "rnd_tree = random_tree(100)\n",
    "len(list(rnd_tree.in_order()))"
   ]
  },
  {
   "cell_type": "code",
   "execution_count": 11,
   "metadata": {},
   "outputs": [],
   "source": [
    "from tqdm import tqdm\n",
    "\n",
    "def stress_test():\n",
    "    for _ in tqdm(range(10000)):\n",
    "        actual_tree = random_tree(100)\n",
    "        actial_pre_order = list(rnd_tree.pre_order())\n",
    "        actual_in_order = list(rnd_tree.in_order())\n",
    "\n",
    "        expected = reconstruct(pre_order, in_order)\n",
    "        expected_pre_order = list(expected.pre_order())\n",
    "        expected_in_order = list(expected.in_order())\n",
    "\n",
    "        if expected_pre_order != pre_order or expected_in_order != in_order:\n",
    "            print('Error')\n",
    "            print('Actual', actial_pre_order, actual_in_order)\n",
    "            print('Expected', expected_pre_order, expected_in_order)"
   ]
  },
  {
   "cell_type": "code",
   "execution_count": 12,
   "metadata": {},
   "outputs": [
    {
     "name": "stderr",
     "output_type": "stream",
     "text": [
      "100%|███████████████████████████████████████████████████████████████████████████| 10000/10000 [00:13<00:00, 736.01it/s]\n"
     ]
    }
   ],
   "source": [
    "stress_test()"
   ]
  }
 ],
 "metadata": {
  "kernelspec": {
   "display_name": "Python 3",
   "language": "python",
   "name": "python3"
  },
  "language_info": {
   "codemirror_mode": {
    "name": "ipython",
    "version": 3
   },
   "file_extension": ".py",
   "mimetype": "text/x-python",
   "name": "python",
   "nbconvert_exporter": "python",
   "pygments_lexer": "ipython3",
   "version": "3.7.1"
  }
 },
 "nbformat": 4,
 "nbformat_minor": 2
}
