{
  "nbformat": 4,
  "nbformat_minor": 0,
  "metadata": {
    "colab": {
      "name": "Untitled.ipynb",
      "version": "0.3.2",
      "provenance": []
    },
    "kernelspec": {
      "display_name": "Python 3",
      "language": "python",
      "name": "python3"
    }
  },
  "cells": [
    {
      "metadata": {
        "id": "UnVYx4uwkGcR",
        "colab_type": "code",
        "colab": {}
      },
      "cell_type": "code",
      "source": [
        "# O(|arr|^3)\n",
        "def slow(arr):\n",
        "    n = len(arr)\n",
        "    max_sum = 0\n",
        "    \n",
        "    for i in range(n):\n",
        "        for j in range(n):\n",
        "            max_sum = max(max_sum, sum(arr[i:j + 1]))\n",
        "            \n",
        "    return max_sum"
      ],
      "execution_count": 0,
      "outputs": []
    },
    {
      "metadata": {
        "id": "_QMqIELGkGcd",
        "colab_type": "code",
        "colab": {
          "base_uri": "https://localhost:8080/",
          "height": 34
        },
        "outputId": "8face40b-6a29-4935-c14a-4bb33ae8aa69"
      },
      "cell_type": "code",
      "source": [
        "slow([34, -50, 42, 14, -5, 86])"
      ],
      "execution_count": 2,
      "outputs": [
        {
          "output_type": "execute_result",
          "data": {
            "text/plain": [
              "137"
            ]
          },
          "metadata": {
            "tags": []
          },
          "execution_count": 2
        }
      ]
    },
    {
      "metadata": {
        "id": "9RqxV0smkGcq",
        "colab_type": "code",
        "colab": {
          "base_uri": "https://localhost:8080/",
          "height": 34
        },
        "outputId": "0c0f3878-fa9e-4493-fe20-729d9d923f97"
      },
      "cell_type": "code",
      "source": [
        "slow([-5, -1, -8, -9])"
      ],
      "execution_count": 3,
      "outputs": [
        {
          "output_type": "execute_result",
          "data": {
            "text/plain": [
              "0"
            ]
          },
          "metadata": {
            "tags": []
          },
          "execution_count": 3
        }
      ]
    },
    {
      "metadata": {
        "id": "Z_xkI8SQkGcw",
        "colab_type": "code",
        "colab": {}
      },
      "cell_type": "code",
      "source": [
        "# O(|arr|)\n",
        "def fast(arr):\n",
        "    n = len(arr)\n",
        "    cum_sum = 0\n",
        "    max_sum = 0\n",
        "    \n",
        "    for el in arr:\n",
        "        cum_sum += el\n",
        "        if cum_sum < 0: cum_sum = 0\n",
        "        max_sum = max(max_sum, cum_sum)\n",
        "        \n",
        "    return max_sum"
      ],
      "execution_count": 0,
      "outputs": []
    },
    {
      "metadata": {
        "id": "8xwxLF37kGc0",
        "colab_type": "code",
        "colab": {
          "base_uri": "https://localhost:8080/",
          "height": 34
        },
        "outputId": "079e5110-5d95-4e69-af25-0dd3cbc1b699"
      },
      "cell_type": "code",
      "source": [
        "fast([34, -50, 42, 14, -5, 86])"
      ],
      "execution_count": 5,
      "outputs": [
        {
          "output_type": "execute_result",
          "data": {
            "text/plain": [
              "137"
            ]
          },
          "metadata": {
            "tags": []
          },
          "execution_count": 5
        }
      ]
    },
    {
      "metadata": {
        "id": "E00c6eRykGc5",
        "colab_type": "code",
        "colab": {
          "base_uri": "https://localhost:8080/",
          "height": 34
        },
        "outputId": "7fb40353-80aa-4b1e-c6a7-23c51be09ac2"
      },
      "cell_type": "code",
      "source": [
        "fast([-5, -1, -8, -9])"
      ],
      "execution_count": 6,
      "outputs": [
        {
          "output_type": "execute_result",
          "data": {
            "text/plain": [
              "0"
            ]
          },
          "metadata": {
            "tags": []
          },
          "execution_count": 6
        }
      ]
    },
    {
      "metadata": {
        "id": "2CvNGtTAkGdB",
        "colab_type": "code",
        "colab": {}
      },
      "cell_type": "code",
      "source": [
        "from tqdm import tqdm\n",
        "from random import shuffle\n",
        "\n",
        "def test():\n",
        "  for _ in tqdm(range(1000)):\n",
        "    n = 50\n",
        "\n",
        "    arr = [el - n / 2 for el in range(n)]\n",
        "    shuffle(arr)\n",
        "\n",
        "    if slow(arr) != fast(arr):\n",
        "      print('Error')\n",
        "      print(arr)\n",
        "      break\n",
        "\n",
        "  print()\n",
        "  print('All good in the hood')"
      ],
      "execution_count": 0,
      "outputs": []
    },
    {
      "metadata": {
        "id": "k0hMsYAvkGdG",
        "colab_type": "code",
        "colab": {
          "base_uri": "https://localhost:8080/",
          "height": 68
        },
        "outputId": "e2002664-ce9a-4a86-c0b3-b195a5214f15"
      },
      "cell_type": "code",
      "source": [
        "test()"
      ],
      "execution_count": 12,
      "outputs": [
        {
          "output_type": "stream",
          "text": [
            "100%|██████████| 1000/1000 [00:01<00:00, 598.38it/s]"
          ],
          "name": "stderr"
        },
        {
          "output_type": "stream",
          "text": [
            "\n",
            "All good in the hood\n"
          ],
          "name": "stdout"
        },
        {
          "output_type": "stream",
          "text": [
            "\n"
          ],
          "name": "stderr"
        }
      ]
    },
    {
      "metadata": {
        "id": "WX-hBT-KkGdJ",
        "colab_type": "code",
        "colab": {}
      },
      "cell_type": "code",
      "source": [
        ""
      ],
      "execution_count": 0,
      "outputs": []
    }
  ]
}